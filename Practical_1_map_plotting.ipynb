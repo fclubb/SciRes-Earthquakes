{
  "nbformat": 4,
  "nbformat_minor": 0,
  "metadata": {
    "kernelspec": {
      "display_name": "Python 3",
      "language": "python",
      "name": "python3"
    },
    "language_info": {
      "codemirror_mode": {
        "name": "ipython",
        "version": 3
      },
      "file_extension": ".py",
      "mimetype": "text/x-python",
      "name": "python",
      "nbconvert_exporter": "python",
      "pygments_lexer": "ipython3",
      "version": "3.9.0"
    },
    "colab": {
      "name": "Practical_1_map_plotting.ipynb",
      "provenance": []
    }
  },
  "cells": [
    {
      "cell_type": "markdown",
      "metadata": {
        "id": "s_jrtx6imUnH"
      },
      "source": [
        "# Scientific Research Project 7 - Practical 1"
      ]
    },
    {
      "cell_type": "markdown",
      "metadata": {
        "id": "cL8RPgfOmUnH"
      },
      "source": [
        "In the first exercise, we downloaded a CSV file of earthquake information from the USGS database. In this practical, we're going to use the Python programming language to make some nice map plots of the dataset.\n",
        "\n",
        "To do that, we're going to use what's called a *Jupyter notebook*: an interactive notebook which contains a mixture of text and code blocks. To run the code in a particular cell, you simply click on that cell and either click the `Run` button in the top left, or press `Shift+Enter`.\n",
        "\n",
        "We are running a Jupyter notebook in Google Colab: this allows you to run the code in your browser. What you are actually doing is running it on a Google server in the cloud, not on your local computer. This is useful, because we can take advantage of Google's processing power instead of having to rely on local laptop processing (which will be much slower).\n",
        "\n",
        "In this practical, read through the contents of each cell and then run it to see what it does. **Make sure you understand what the code is doing - don't just blindly click through!** For your final project assignment, you can re-run and modify this notebook with your own dataset to make some nice plots for your report.\n",
        "****\n",
        "To work through this notebook, firstly:\n",
        "1. Read through the instructions and execute each code block cell by clicking `Shift and Enter` to see what it does.\n",
        "2. Do the exercise set out at the end of the notebook.\n",
        "3. Save the figures and upload them to the Discussion Board on Duo."
      ]
    },
    {
      "cell_type": "markdown",
      "metadata": {
        "id": "Z8qPGjVqmUnI"
      },
      "source": [
        "### Getting started with Python\n",
        "\n",
        "Ok, let's get started with some Python! Python is a very easy programming language which has a lot of built in packages that can help us to do analyses. To access these helpful pieces of code, we first of all have to `import` them. To do this we just use the `import` command as shown below. The main ones are:\n",
        "\n",
        "* `numpy`: a very useful package which allows us to do some important mathematical computations. See here for more details: https://numpy.org/\n",
        "* `pandas`: this package allows us to load in CSV files to what are called _dataframes_: you can think of a dataframe as being similar to a spreadsheet, but a lot more efficient. https://pandas.pydata.org/docs/getting_started/overview.html\n",
        "* `matplotlib`: we use this to make nice figures and plots. You can look at the matplotlib gallery for examples of plots you can make with it: https://matplotlib.org/3.1.1/gallery/index.html\n",
        "* `cartopy`: this is a package specifically for making maps. We're going to use it in this exercise to plot the locations of our earthquakes."
      ]
    },
    {
      "cell_type": "code",
      "metadata": {
        "id": "YORyecDymUnI"
      },
      "source": [
        "# Lines which start with a # symbol are comments - they are ignored when the code is run.\n",
        "# import several helpful packages that we'll use\n",
        "import numpy as np # linear algebra\n",
        "import pandas as pd # data processing. We can read in csv files using pd.read_csv('path/to/csv-file')\n",
        "import matplotlib.pyplot as plt # package for making figures"
      ],
      "execution_count": 8,
      "outputs": []
    },
    {
      "cell_type": "code",
      "metadata": {
        "colab": {
          "base_uri": "https://localhost:8080/"
        },
        "id": "vu9YKOWNmqjb",
        "outputId": "3f09c3db-9c24-4fb5-ff8e-6fc8cb0322c2"
      },
      "source": [
        "# Google Colab doesn't have cartopy automatically installed. This code installs and imports it.\n",
        "!apt-get -qq install python-cartopy python3-cartopy\n",
        "import cartopy"
      ],
      "execution_count": 2,
      "outputs": [
        {
          "output_type": "stream",
          "text": [
            "Selecting previously unselected package python-pkg-resources.\n",
            "(Reading database ... 144793 files and directories currently installed.)\n",
            "Preparing to unpack .../0-python-pkg-resources_39.0.1-2_all.deb ...\n",
            "Unpacking python-pkg-resources (39.0.1-2) ...\n",
            "Selecting previously unselected package python-pyshp.\n",
            "Preparing to unpack .../1-python-pyshp_1.2.12+ds-1_all.deb ...\n",
            "Unpacking python-pyshp (1.2.12+ds-1) ...\n",
            "Selecting previously unselected package python-shapely.\n",
            "Preparing to unpack .../2-python-shapely_1.6.4-1_amd64.deb ...\n",
            "Unpacking python-shapely (1.6.4-1) ...\n",
            "Selecting previously unselected package python-six.\n",
            "Preparing to unpack .../3-python-six_1.11.0-2_all.deb ...\n",
            "Unpacking python-six (1.11.0-2) ...\n",
            "Selecting previously unselected package python-cartopy:amd64.\n",
            "Preparing to unpack .../4-python-cartopy_0.14.2+dfsg1-2build3_amd64.deb ...\n",
            "Unpacking python-cartopy:amd64 (0.14.2+dfsg1-2build3) ...\n",
            "Selecting previously unselected package python3-pkg-resources.\n",
            "Preparing to unpack .../5-python3-pkg-resources_39.0.1-2_all.deb ...\n",
            "Unpacking python3-pkg-resources (39.0.1-2) ...\n",
            "Selecting previously unselected package python3-pyshp.\n",
            "Preparing to unpack .../6-python3-pyshp_1.2.12+ds-1_all.deb ...\n",
            "Unpacking python3-pyshp (1.2.12+ds-1) ...\n",
            "Selecting previously unselected package python3-shapely.\n",
            "Preparing to unpack .../7-python3-shapely_1.6.4-1_amd64.deb ...\n",
            "Unpacking python3-shapely (1.6.4-1) ...\n",
            "Selecting previously unselected package python3-six.\n",
            "Preparing to unpack .../8-python3-six_1.11.0-2_all.deb ...\n",
            "Unpacking python3-six (1.11.0-2) ...\n",
            "Selecting previously unselected package python3-cartopy:amd64.\n",
            "Preparing to unpack .../9-python3-cartopy_0.14.2+dfsg1-2build3_amd64.deb ...\n",
            "Unpacking python3-cartopy:amd64 (0.14.2+dfsg1-2build3) ...\n",
            "Setting up python-shapely (1.6.4-1) ...\n",
            "Setting up python-pyshp (1.2.12+ds-1) ...\n",
            "Setting up python3-six (1.11.0-2) ...\n",
            "Setting up python3-shapely (1.6.4-1) ...\n",
            "Setting up python3-pyshp (1.2.12+ds-1) ...\n",
            "Setting up python3-pkg-resources (39.0.1-2) ...\n",
            "Setting up python-pkg-resources (39.0.1-2) ...\n",
            "Setting up python-six (1.11.0-2) ...\n",
            "Setting up python3-cartopy:amd64 (0.14.2+dfsg1-2build3) ...\n",
            "Setting up python-cartopy:amd64 (0.14.2+dfsg1-2build3) ...\n"
          ],
          "name": "stdout"
        }
      ]
    },
    {
      "cell_type": "markdown",
      "metadata": {
        "id": "ognwypYUnccz"
      },
      "source": [
        "We've successfully imported the modules that we need. Now we have to load in our earthquake data that we downloaded in the previous step. \n",
        "\n",
        "The first step is to upload the data to Google Colab. To do this, click the small folder icon on the left hand bar and then click `Upload to Session Storage`. You can then navigate to the CSV file we downloaded and add it to Google Colab.\n",
        "\n",
        "**NOTE** - you will have to re-upload the data to Google Colab whenever you want to run this notebook. \n",
        "\n",
        "![practical1_fig4.PNG](data:image/png;base64,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)"
      ]
    },
    {
      "cell_type": "markdown",
      "metadata": {
        "id": "aBtiRUgtor4E"
      },
      "source": [
        "### Exploring the dataset\n",
        "Once you have uploaded the file and you can see it in the left hand bar, we can then load it into Python using the code in the cell below. To load it we will use the `pandas` module. `pandas` has a function called `read_csv` which allows us to read in the CSV file that we uploaded. We will store it in a variable called `df` which stands for `data frame` - this is the name of data tables in `pandas`."
      ]
    },
    {
      "cell_type": "code",
      "metadata": {
        "id": "5cjQtFWWmkW4"
      },
      "source": [
        "df = pd.read_csv('San_Francisco_earthquakes_1900-2020.csv') # This needs to correspond to the name of the file you uploaded. You can change it to represent your own file "
      ],
      "execution_count": 7,
      "outputs": []
    },
    {
      "cell_type": "markdown",
      "metadata": {
        "id": "xMkNfffupF0y"
      },
      "source": [
        "You can then type `df` to see what the data look like:"
      ]
    },
    {
      "cell_type": "code",
      "metadata": {
        "colab": {
          "base_uri": "https://localhost:8080/",
          "height": 745
        },
        "id": "Vx3TJfueordF",
        "outputId": "a040fa39-d888-464b-e5db-bbbebd26bc80"
      },
      "source": [
        "df"
      ],
      "execution_count": 5,
      "outputs": [
        {
          "output_type": "execute_result",
          "data": {
            "text/html": [
              "<div>\n",
              "<style scoped>\n",
              "    .dataframe tbody tr th:only-of-type {\n",
              "        vertical-align: middle;\n",
              "    }\n",
              "\n",
              "    .dataframe tbody tr th {\n",
              "        vertical-align: top;\n",
              "    }\n",
              "\n",
              "    .dataframe thead th {\n",
              "        text-align: right;\n",
              "    }\n",
              "</style>\n",
              "<table border=\"1\" class=\"dataframe\">\n",
              "  <thead>\n",
              "    <tr style=\"text-align: right;\">\n",
              "      <th></th>\n",
              "      <th>time</th>\n",
              "      <th>latitude</th>\n",
              "      <th>longitude</th>\n",
              "      <th>depth</th>\n",
              "      <th>mag</th>\n",
              "      <th>magType</th>\n",
              "      <th>nst</th>\n",
              "      <th>gap</th>\n",
              "      <th>dmin</th>\n",
              "      <th>rms</th>\n",
              "      <th>net</th>\n",
              "      <th>id</th>\n",
              "      <th>updated</th>\n",
              "      <th>place</th>\n",
              "      <th>type</th>\n",
              "      <th>horizontalError</th>\n",
              "      <th>depthError</th>\n",
              "      <th>magError</th>\n",
              "      <th>magNst</th>\n",
              "      <th>status</th>\n",
              "      <th>locationSource</th>\n",
              "      <th>magSource</th>\n",
              "    </tr>\n",
              "  </thead>\n",
              "  <tbody>\n",
              "    <tr>\n",
              "      <th>0</th>\n",
              "      <td>2019-10-15T19:42:30.540Z</td>\n",
              "      <td>36.645500</td>\n",
              "      <td>-121.274000</td>\n",
              "      <td>10.100</td>\n",
              "      <td>4.71</td>\n",
              "      <td>mw</td>\n",
              "      <td>89.0</td>\n",
              "      <td>54.0</td>\n",
              "      <td>0.04759</td>\n",
              "      <td>0.14</td>\n",
              "      <td>nc</td>\n",
              "      <td>nc73292360</td>\n",
              "      <td>2020-09-29T22:06:48.876Z</td>\n",
              "      <td>17km SSE of Tres Pinos, CA</td>\n",
              "      <td>earthquake</td>\n",
              "      <td>0.15</td>\n",
              "      <td>0.31</td>\n",
              "      <td>NaN</td>\n",
              "      <td>4.0</td>\n",
              "      <td>reviewed</td>\n",
              "      <td>nc</td>\n",
              "      <td>nc</td>\n",
              "    </tr>\n",
              "    <tr>\n",
              "      <th>1</th>\n",
              "      <td>2017-11-13T19:31:29.050Z</td>\n",
              "      <td>36.630500</td>\n",
              "      <td>-121.244333</td>\n",
              "      <td>6.310</td>\n",
              "      <td>4.58</td>\n",
              "      <td>mw</td>\n",
              "      <td>82.0</td>\n",
              "      <td>55.0</td>\n",
              "      <td>0.05988</td>\n",
              "      <td>0.11</td>\n",
              "      <td>nc</td>\n",
              "      <td>nc72923380</td>\n",
              "      <td>2018-10-05T14:00:40.985Z</td>\n",
              "      <td>22km NE of Gonzales, California</td>\n",
              "      <td>earthquake</td>\n",
              "      <td>0.12</td>\n",
              "      <td>0.36</td>\n",
              "      <td>NaN</td>\n",
              "      <td>6.0</td>\n",
              "      <td>reviewed</td>\n",
              "      <td>nc</td>\n",
              "      <td>nc</td>\n",
              "    </tr>\n",
              "    <tr>\n",
              "      <th>2</th>\n",
              "      <td>2014-08-24T10:20:44.070Z</td>\n",
              "      <td>38.215167</td>\n",
              "      <td>-122.312333</td>\n",
              "      <td>11.120</td>\n",
              "      <td>6.02</td>\n",
              "      <td>mw</td>\n",
              "      <td>369.0</td>\n",
              "      <td>28.0</td>\n",
              "      <td>0.03604</td>\n",
              "      <td>0.18</td>\n",
              "      <td>nc</td>\n",
              "      <td>nc72282711</td>\n",
              "      <td>2020-08-14T23:04:26.676Z</td>\n",
              "      <td>South Napa</td>\n",
              "      <td>earthquake</td>\n",
              "      <td>0.11</td>\n",
              "      <td>0.15</td>\n",
              "      <td>NaN</td>\n",
              "      <td>0.0</td>\n",
              "      <td>reviewed</td>\n",
              "      <td>nc</td>\n",
              "      <td>nc</td>\n",
              "    </tr>\n",
              "    <tr>\n",
              "      <th>3</th>\n",
              "      <td>2011-08-27T07:18:21.150Z</td>\n",
              "      <td>36.584333</td>\n",
              "      <td>-121.180833</td>\n",
              "      <td>7.500</td>\n",
              "      <td>4.64</td>\n",
              "      <td>mw</td>\n",
              "      <td>97.0</td>\n",
              "      <td>31.0</td>\n",
              "      <td>0.08108</td>\n",
              "      <td>0.08</td>\n",
              "      <td>nc</td>\n",
              "      <td>nc71627835</td>\n",
              "      <td>2020-05-02T02:50:33.967Z</td>\n",
              "      <td>Central California</td>\n",
              "      <td>earthquake</td>\n",
              "      <td>0.11</td>\n",
              "      <td>0.30</td>\n",
              "      <td>NaN</td>\n",
              "      <td>5.0</td>\n",
              "      <td>reviewed</td>\n",
              "      <td>nc</td>\n",
              "      <td>nc</td>\n",
              "    </tr>\n",
              "    <tr>\n",
              "      <th>4</th>\n",
              "      <td>2011-01-12T08:51:03.680Z</td>\n",
              "      <td>36.771167</td>\n",
              "      <td>-121.496333</td>\n",
              "      <td>7.661</td>\n",
              "      <td>4.50</td>\n",
              "      <td>mw</td>\n",
              "      <td>134.0</td>\n",
              "      <td>35.0</td>\n",
              "      <td>0.01802</td>\n",
              "      <td>0.19</td>\n",
              "      <td>nc</td>\n",
              "      <td>nc71508850</td>\n",
              "      <td>2020-05-02T02:42:59.011Z</td>\n",
              "      <td>Central California</td>\n",
              "      <td>earthquake</td>\n",
              "      <td>0.15</td>\n",
              "      <td>0.28</td>\n",
              "      <td>NaN</td>\n",
              "      <td>16.0</td>\n",
              "      <td>reviewed</td>\n",
              "      <td>nc</td>\n",
              "      <td>nc</td>\n",
              "    </tr>\n",
              "    <tr>\n",
              "      <th>...</th>\n",
              "      <td>...</td>\n",
              "      <td>...</td>\n",
              "      <td>...</td>\n",
              "      <td>...</td>\n",
              "      <td>...</td>\n",
              "      <td>...</td>\n",
              "      <td>...</td>\n",
              "      <td>...</td>\n",
              "      <td>...</td>\n",
              "      <td>...</td>\n",
              "      <td>...</td>\n",
              "      <td>...</td>\n",
              "      <td>...</td>\n",
              "      <td>...</td>\n",
              "      <td>...</td>\n",
              "      <td>...</td>\n",
              "      <td>...</td>\n",
              "      <td>...</td>\n",
              "      <td>...</td>\n",
              "      <td>...</td>\n",
              "      <td>...</td>\n",
              "      <td>...</td>\n",
              "    </tr>\n",
              "    <tr>\n",
              "      <th>167</th>\n",
              "      <td>1904-07-30T10:26:00.000Z</td>\n",
              "      <td>38.500000</td>\n",
              "      <td>-122.000000</td>\n",
              "      <td>NaN</td>\n",
              "      <td>4.50</td>\n",
              "      <td>ml</td>\n",
              "      <td>NaN</td>\n",
              "      <td>NaN</td>\n",
              "      <td>NaN</td>\n",
              "      <td>NaN</td>\n",
              "      <td>ushis</td>\n",
              "      <td>ushis430</td>\n",
              "      <td>2018-06-04T20:43:44.000Z</td>\n",
              "      <td>Northern California</td>\n",
              "      <td>earthquake</td>\n",
              "      <td>NaN</td>\n",
              "      <td>NaN</td>\n",
              "      <td>NaN</td>\n",
              "      <td>NaN</td>\n",
              "      <td>reviewed</td>\n",
              "      <td>ushis</td>\n",
              "      <td>cdmg</td>\n",
              "    </tr>\n",
              "    <tr>\n",
              "      <th>168</th>\n",
              "      <td>1903-08-03T06:49:00.000Z</td>\n",
              "      <td>37.300000</td>\n",
              "      <td>-121.800000</td>\n",
              "      <td>NaN</td>\n",
              "      <td>5.80</td>\n",
              "      <td>ml</td>\n",
              "      <td>NaN</td>\n",
              "      <td>NaN</td>\n",
              "      <td>NaN</td>\n",
              "      <td>NaN</td>\n",
              "      <td>ushis</td>\n",
              "      <td>ushis421</td>\n",
              "      <td>2018-06-04T20:43:44.000Z</td>\n",
              "      <td>San Francisco Bay area, California</td>\n",
              "      <td>earthquake</td>\n",
              "      <td>NaN</td>\n",
              "      <td>NaN</td>\n",
              "      <td>NaN</td>\n",
              "      <td>NaN</td>\n",
              "      <td>reviewed</td>\n",
              "      <td>ushis</td>\n",
              "      <td>cdmg</td>\n",
              "    </tr>\n",
              "    <tr>\n",
              "      <th>169</th>\n",
              "      <td>1903-06-11T13:12:00.000Z</td>\n",
              "      <td>37.400000</td>\n",
              "      <td>-121.900000</td>\n",
              "      <td>NaN</td>\n",
              "      <td>5.80</td>\n",
              "      <td>ml</td>\n",
              "      <td>NaN</td>\n",
              "      <td>NaN</td>\n",
              "      <td>NaN</td>\n",
              "      <td>NaN</td>\n",
              "      <td>ushis</td>\n",
              "      <td>ushis418</td>\n",
              "      <td>2018-06-04T20:43:44.000Z</td>\n",
              "      <td>San Francisco Bay area, California</td>\n",
              "      <td>earthquake</td>\n",
              "      <td>NaN</td>\n",
              "      <td>NaN</td>\n",
              "      <td>NaN</td>\n",
              "      <td>NaN</td>\n",
              "      <td>reviewed</td>\n",
              "      <td>ushis</td>\n",
              "      <td>cdmg</td>\n",
              "    </tr>\n",
              "    <tr>\n",
              "      <th>170</th>\n",
              "      <td>1902-05-19T18:31:00.000Z</td>\n",
              "      <td>38.300000</td>\n",
              "      <td>-121.900000</td>\n",
              "      <td>NaN</td>\n",
              "      <td>5.40</td>\n",
              "      <td>ml</td>\n",
              "      <td>NaN</td>\n",
              "      <td>NaN</td>\n",
              "      <td>NaN</td>\n",
              "      <td>NaN</td>\n",
              "      <td>ushis</td>\n",
              "      <td>ushis402</td>\n",
              "      <td>2018-06-04T20:43:44.000Z</td>\n",
              "      <td>Northern California</td>\n",
              "      <td>earthquake</td>\n",
              "      <td>NaN</td>\n",
              "      <td>NaN</td>\n",
              "      <td>NaN</td>\n",
              "      <td>NaN</td>\n",
              "      <td>reviewed</td>\n",
              "      <td>ushis</td>\n",
              "      <td>cdmg</td>\n",
              "    </tr>\n",
              "    <tr>\n",
              "      <th>171</th>\n",
              "      <td>1900-04-30T22:41:14.000Z</td>\n",
              "      <td>36.900000</td>\n",
              "      <td>-121.600000</td>\n",
              "      <td>NaN</td>\n",
              "      <td>4.50</td>\n",
              "      <td>ml</td>\n",
              "      <td>NaN</td>\n",
              "      <td>NaN</td>\n",
              "      <td>NaN</td>\n",
              "      <td>NaN</td>\n",
              "      <td>ushis</td>\n",
              "      <td>ushis389</td>\n",
              "      <td>2018-06-04T20:43:44.000Z</td>\n",
              "      <td>Central California</td>\n",
              "      <td>earthquake</td>\n",
              "      <td>NaN</td>\n",
              "      <td>NaN</td>\n",
              "      <td>NaN</td>\n",
              "      <td>NaN</td>\n",
              "      <td>reviewed</td>\n",
              "      <td>ushis</td>\n",
              "      <td>cdmg</td>\n",
              "    </tr>\n",
              "  </tbody>\n",
              "</table>\n",
              "<p>172 rows × 22 columns</p>\n",
              "</div>"
            ],
            "text/plain": [
              "                         time   latitude  ...  locationSource  magSource\n",
              "0    2019-10-15T19:42:30.540Z  36.645500  ...              nc         nc\n",
              "1    2017-11-13T19:31:29.050Z  36.630500  ...              nc         nc\n",
              "2    2014-08-24T10:20:44.070Z  38.215167  ...              nc         nc\n",
              "3    2011-08-27T07:18:21.150Z  36.584333  ...              nc         nc\n",
              "4    2011-01-12T08:51:03.680Z  36.771167  ...              nc         nc\n",
              "..                        ...        ...  ...             ...        ...\n",
              "167  1904-07-30T10:26:00.000Z  38.500000  ...           ushis       cdmg\n",
              "168  1903-08-03T06:49:00.000Z  37.300000  ...           ushis       cdmg\n",
              "169  1903-06-11T13:12:00.000Z  37.400000  ...           ushis       cdmg\n",
              "170  1902-05-19T18:31:00.000Z  38.300000  ...           ushis       cdmg\n",
              "171  1900-04-30T22:41:14.000Z  36.900000  ...           ushis       cdmg\n",
              "\n",
              "[172 rows x 22 columns]"
            ]
          },
          "metadata": {
            "tags": []
          },
          "execution_count": 5
        }
      ]
    },
    {
      "cell_type": "markdown",
      "metadata": {
        "id": "0ZdTYWCGpWxO"
      },
      "source": [
        "You can see that the `df` table looks a bit like an Excel spreadsheet: it has columns, which are the different data types, and a row for each earthquake. If you want to find out the column names, you can use the pandas command below which will list the names of each column. This tells you the data we have about each earthquake."
      ]
    },
    {
      "cell_type": "code",
      "metadata": {
        "colab": {
          "base_uri": "https://localhost:8080/"
        },
        "id": "IIaM-oz7pKwv",
        "outputId": "6b76a453-70ad-45e6-db41-2ab5e89921ca"
      },
      "source": [
        "df.columns"
      ],
      "execution_count": 6,
      "outputs": [
        {
          "output_type": "execute_result",
          "data": {
            "text/plain": [
              "Index(['time', 'latitude', 'longitude', 'depth', 'mag', 'magType', 'nst',\n",
              "       'gap', 'dmin', 'rms', 'net', 'id', 'updated', 'place', 'type',\n",
              "       'horizontalError', 'depthError', 'magError', 'magNst', 'status',\n",
              "       'locationSource', 'magSource'],\n",
              "      dtype='object')"
            ]
          },
          "metadata": {
            "tags": []
          },
          "execution_count": 6
        }
      ]
    },
    {
      "cell_type": "markdown",
      "metadata": {
        "id": "fZwryTsMrRH0"
      },
      "source": [
        "You can see that we have information about the `time`, `latitude` and `longitude` of each earthquake. To get information about a particular column, we can type:\n",
        "```\n",
        "df['column_name'] \n",
        "```\n",
        "where `column_name` is the name of the column we're interested in. For example, to get the date and time of the earliest earthquake, we could type:"
      ]
    },
    {
      "cell_type": "code",
      "metadata": {
        "colab": {
          "base_uri": "https://localhost:8080/",
          "height": 35
        },
        "id": "p_hKdbmHpgs4",
        "outputId": "d18e6fd5-4b48-4793-f60f-c19b15eefa13"
      },
      "source": [
        "df['time'].min()"
      ],
      "execution_count": 18,
      "outputs": [
        {
          "output_type": "execute_result",
          "data": {
            "application/vnd.google.colaboratory.intrinsic+json": {
              "type": "string"
            },
            "text/plain": [
              "'1900-04-30T22:41:14.000Z'"
            ]
          },
          "metadata": {
            "tags": []
          },
          "execution_count": 18
        }
      ]
    },
    {
      "cell_type": "markdown",
      "metadata": {
        "id": "m1uq9z00sUhU"
      },
      "source": [
        "This tells us that the earliest earthquake recorded in our database was on 30th April 1900 at 10:41pm! You might get a different answer if you selected a slightly different area to download from the USGS database.\n",
        "\n",
        "Let's look at the maximum magnitude (the most powerful earthquake) recorded in our database:"
      ]
    },
    {
      "cell_type": "code",
      "metadata": {
        "id": "J9yyVgXdsMPB",
        "outputId": "1325e30e-77d6-4db5-a162-494ffa2b6c9d",
        "colab": {
          "base_uri": "https://localhost:8080/"
        }
      },
      "source": [
        "df['mag'].max()"
      ],
      "execution_count": 11,
      "outputs": [
        {
          "output_type": "execute_result",
          "data": {
            "text/plain": [
              "7.9"
            ]
          },
          "metadata": {
            "tags": []
          },
          "execution_count": 11
        }
      ]
    },
    {
      "cell_type": "markdown",
      "metadata": {
        "id": "Bh5kZbyvs5dW"
      },
      "source": [
        "This tells us that the maximum magnitude recorded was a magitude 7.9 earthquake. We can find out which row this magnitude corresponds to by using the `argmax` command. This will allow us to find the time of the most powerful earthquake:"
      ]
    },
    {
      "cell_type": "code",
      "metadata": {
        "id": "5fs61V9rsxsp",
        "outputId": "4f1f8a8d-1cee-4a18-bfb2-1a9807c2ac54",
        "colab": {
          "base_uri": "https://localhost:8080/",
          "height": 35
        }
      },
      "source": [
        "max_row = df['mag'].argmax()\n",
        "df['time'][max_row]"
      ],
      "execution_count": 16,
      "outputs": [
        {
          "output_type": "execute_result",
          "data": {
            "application/vnd.google.colaboratory.intrinsic+json": {
              "type": "string"
            },
            "text/plain": [
              "'1906-04-18T13:12:27.700Z'"
            ]
          },
          "metadata": {
            "tags": []
          },
          "execution_count": 16
        }
      ]
    },
    {
      "cell_type": "markdown",
      "metadata": {
        "id": "nkUDSQxgtTxg"
      },
      "source": [
        "This tells us that the most powerful earthquake recorded for the San Francisco area was at 1:12pm on 18th April 1906. This is a very famous event which destroyed much of San Francisco city: https://en.wikipedia.org/wiki/1906_San_Francisco_earthquake"
      ]
    },
    {
      "cell_type": "markdown",
      "metadata": {
        "id": "KpwLZNBktyM0"
      },
      "source": [
        "### Plotting the data using cartopy"
      ]
    },
    {
      "cell_type": "code",
      "metadata": {
        "id": "O2GxWZUlt0TO"
      },
      "source": [
        ""
      ],
      "execution_count": null,
      "outputs": []
    }
  ]
}