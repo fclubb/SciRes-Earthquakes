{
 "cells": [
  {
   "cell_type": "markdown",
   "metadata": {},
   "source": [
    "# Scientific Research Project 7 - Practical 1"
   ]
  },
  {
   "cell_type": "markdown",
   "metadata": {},
   "source": [
    "## Plotting the USGS earthquake dataset on a map\n",
    "In the first exercise, we downloaded a CSV file of earthquake information from the USGS database. In this practical, we're going to use the Python programming language to make some nice map plots of the dataset.\n",
    "\n",
    "To do that, we're going to use what's called a *Jupyter notebook*: an interactive notebook which contains a mixture of text and code blocks. To run the code in a particular cell, you simply click on that cell and either click the `Run` button in the top left, or press `Shift+Enter`.\n",
    "\n",
    "In this practical, read through the contents of each cell and then run it to see what it does. **Make sure you understand what the code is doing - don't just blindly click through!** For your final project assignment, you can re-run and modify this notebook with your own dataset to make some nice plots for your report.\n",
    "****"
   ]
  },
  {
   "cell_type": "markdown",
   "metadata": {},
   "source": [
    "Ok, let's get started with some Python! Python is a very easy programming language which has a lot of built in packages that can help us to do analyses. To access these helpful pieces of code, we first of all have to `import` them. To do this we just use the `import` command as shown below. The main ones are:\n",
    "\n",
    "* `numpy`: a very useful package which allows us to do some important mathematical computations. See here for more details: https://numpy.org/\n",
    "* `pandas`: this package allows us to load in CSV files to what are called _dataframes_: you can think of a dataframe as being similar to a spreadsheet, but a lot more efficient. https://pandas.pydata.org/docs/getting_started/overview.html\n",
    "* `matplotlib`: we use this to make nice figures and plots. You can look at the matplotlib gallery for examples of plots you can make with it: https://matplotlib.org/3.1.1/gallery/index.html"
   ]
  },
  {
   "cell_type": "code",
   "execution_count": null,
   "metadata": {},
   "outputs": [],
   "source": []
  }
 ],
 "metadata": {
  "kernelspec": {
   "display_name": "Python 3",
   "language": "python",
   "name": "python3"
  },
  "language_info": {
   "codemirror_mode": {
    "name": "ipython",
    "version": 3
   },
   "file_extension": ".py",
   "mimetype": "text/x-python",
   "name": "python",
   "nbconvert_exporter": "python",
   "pygments_lexer": "ipython3",
   "version": "3.9.0"
  }
 },
 "nbformat": 4,
 "nbformat_minor": 4
}
